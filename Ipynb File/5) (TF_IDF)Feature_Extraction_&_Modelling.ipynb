{
  "cells": [
    {
      "cell_type": "markdown",
      "source": [
        "# TF-IDF FEATURE EXTRACTION\n",
        "\n"
      ],
      "metadata": {
        "id": "qkoO8o4FcyGy"
      }
    },
    {
      "cell_type": "markdown",
      "source": [
        "## Importing Libraries and Loading Data"
      ],
      "metadata": {
        "id": "baVSlDoCcjaK"
      }
    },
    {
      "cell_type": "code",
      "execution_count": null,
      "metadata": {
        "colab": {
          "base_uri": "https://localhost:8080/"
        },
        "id": "QBcJQsbqiEa-",
        "outputId": "86c596b7-2868-4fc6-9112-2ae8dd346d31"
      },
      "outputs": [
        {
          "output_type": "stream",
          "name": "stdout",
          "text": [
            "\n",
            "Dataset Info:\n",
            "<class 'pandas.core.frame.DataFrame'>\n",
            "RangeIndex: 8850 entries, 0 to 8849\n",
            "Data columns (total 14 columns):\n",
            " #   Column               Non-Null Count  Dtype  \n",
            "---  ------               --------------  -----  \n",
            " 0   conversation_id_str  8850 non-null   float64\n",
            " 1   favorite_count       8850 non-null   int64  \n",
            " 2   full_text            8850 non-null   object \n",
            " 3   lang                 8850 non-null   object \n",
            " 4   reply_count          8850 non-null   int64  \n",
            " 5   retweet_count        8850 non-null   int64  \n",
            " 6   smartphone           8850 non-null   object \n",
            " 7   Month                8850 non-null   int64  \n",
            " 8   Year                 8850 non-null   int64  \n",
            " 9   cleaned_text         8850 non-null   object \n",
            " 10  sentiment_scores     8850 non-null   object \n",
            " 11  compound             8850 non-null   float64\n",
            " 12  sentiment            8850 non-null   object \n",
            " 13  sentiment_numerical  8850 non-null   int64  \n",
            "dtypes: float64(2), int64(6), object(6)\n",
            "memory usage: 968.1+ KB\n",
            "None\n",
            "0      -1\n",
            "1      -1\n",
            "2      -1\n",
            "3      -1\n",
            "4      -1\n",
            "       ..\n",
            "8845    1\n",
            "8846    1\n",
            "8847    1\n",
            "8848    1\n",
            "8849    1\n",
            "Name: sentiment_numerical, Length: 8850, dtype: int64\n",
            "\n",
            "Number of Samples: 8850\n",
            "Number of Positive Labels: 4047\n",
            "Number of Negative Labels: 2194\n",
            "Number of Neutral Labels: 2609\n"
          ]
        }
      ],
      "source": [
        "import pandas as pd\n",
        "import matplotlib.pyplot as plt\n",
        "import seaborn as sns\n",
        "\n",
        "# Load the dataset\n",
        "file_path = '/content/drive/MyDrive/SEM 5/DS PROJ/DSP/labeled_tweets.csv'\n",
        "data = pd.read_csv(file_path)\n",
        "\n",
        "# Mapping sentiment to numerical values\n",
        "sentiment_mapping = {'Positive': 1, 'Neutral': 0, 'Negative': -1}\n",
        "data['sentiment_numerical'] = data['sentiment'].map(sentiment_mapping)\n",
        "\n",
        "# Select the text and sentiment columns\n",
        "text_column = 'cleaned_text'\n",
        "label_column = 'sentiment_numerical'\n",
        "texts = data[text_column].astype(str)\n",
        "labels = data[label_column]\n",
        "\n",
        "# Display basic stats about the dataset\n",
        "print(\"\\nDataset Info:\")\n",
        "print(data.info())\n",
        "print(labels)\n",
        "\n",
        "print(\"\\nNumber of Samples:\", len(data))\n",
        "print(\"Number of Positive Labels:\", sum(labels == 1 ))\n",
        "print(\"Number of Negative Labels:\", sum(labels == -1 ))\n",
        "print(\"Number of Neutral Labels:\", sum(labels == 0 ))\n"
      ]
    },
    {
      "cell_type": "markdown",
      "source": [
        "Feature extraction is done using TF-IDF representation to convert text into numerical data.\n",
        "\n",
        "TF-IDF (Term Frequency-Inverse Document Frequency):\n",
        "\n",
        "- Measures the importance of words in a document relative to the dataset.\n",
        "- TfidfVectorizer creates the TF-IDF matrix.\n",
        "\n",
        "\n",
        "\n"
      ],
      "metadata": {
        "id": "3frBtew-c1pL"
      }
    },
    {
      "cell_type": "code",
      "execution_count": null,
      "metadata": {
        "id": "BrSOtqBPm1A_",
        "colab": {
          "base_uri": "https://localhost:8080/"
        },
        "outputId": "b36778d0-9f55-4b8f-9f43-e02408f98da5"
      },
      "outputs": [
        {
          "output_type": "stream",
          "name": "stdout",
          "text": [
            "TF-IDF with Unigrams and Bigrams Shape: (8850, 103583)\n"
          ]
        }
      ],
      "source": [
        "from sklearn.feature_extraction.text import TfidfVectorizer\n",
        "\n",
        "# Unigrams and bigrams\n",
        "tfidf_vectorizer = TfidfVectorizer(ngram_range=(1, 2))  # (1, 2) means unigrams and bigrams\n",
        "tfidf_matrix = tfidf_vectorizer.fit_transform(texts)\n",
        "\n",
        "print(\"TF-IDF with Unigrams and Bigrams Shape:\", tfidf_matrix.shape)\n"
      ]
    },
    {
      "cell_type": "markdown",
      "source": [
        "## Handling Imbalanced Data with SMOTE"
      ],
      "metadata": {
        "id": "A1sme2xBPPMs"
      }
    },
    {
      "cell_type": "markdown",
      "source": [
        "\n",
        "\n",
        "```\n",
        "Number of Samples: 8850\n",
        "Number of Positive Labels: 4047\n",
        "Number of Negative Labels: 2194\n",
        "Number of Neutral Labels: 2609\n",
        "```\n",
        "Number of positive labels higher than negative and neutral label, thus it might lead to biased model performance, where the model may favor the majority class (positive) and underperform on the minority classes (negative & neutral)\n",
        "\n"
      ],
      "metadata": {
        "id": "nQZhoAtzPSEr"
      }
    },
    {
      "cell_type": "code",
      "source": [
        "# Apply SMOTE to balance the classes in the training set\n",
        "from imblearn.over_sampling import SMOTE\n",
        "\n",
        "smote = SMOTE(random_state=42)\n",
        "X_train_resampled, y_train_resampled = smote.fit_resample(tfidf_matrix, labels)"
      ],
      "metadata": {
        "id": "pbV-TqK-sNcs"
      },
      "execution_count": null,
      "outputs": []
    },
    {
      "cell_type": "code",
      "source": [
        "print(\"\\nNumber of Samples:\", len(data))\n",
        "print(\"Number of Positive Labels:\", sum(y_train_resampled == 1 ))\n",
        "print(\"Number of Negative Labels:\", sum(y_train_resampled == -1 ))\n",
        "print(\"Number of Neutral Labels:\", sum(y_train_resampled == 0 ))"
      ],
      "metadata": {
        "colab": {
          "base_uri": "https://localhost:8080/"
        },
        "id": "2OA1UBT_3q_N",
        "outputId": "0f32ac85-a008-4704-b480-18819518c265"
      },
      "execution_count": null,
      "outputs": [
        {
          "output_type": "stream",
          "name": "stdout",
          "text": [
            "\n",
            "Number of Samples: 8850\n",
            "Number of Positive Labels: 4047\n",
            "Number of Negative Labels: 4047\n",
            "Number of Neutral Labels: 4047\n"
          ]
        }
      ]
    },
    {
      "cell_type": "markdown",
      "source": [
        "## Train-Test Split"
      ],
      "metadata": {
        "id": "biEivi_3dPy-"
      }
    },
    {
      "cell_type": "code",
      "execution_count": null,
      "metadata": {
        "id": "dfikPltTlde2",
        "colab": {
          "base_uri": "https://localhost:8080/"
        },
        "outputId": "8afccb69-e2c9-4829-f786-4bd2664b8425"
      },
      "outputs": [
        {
          "output_type": "stream",
          "name": "stdout",
          "text": [
            "Training Set Shape: (9712, 103583)\n",
            "Testing Set Shape: (2429, 103583)\n",
            "Class distribution after resampling:\n",
            "Counter({1: 3256, -1: 3246, 0: 3210})\n"
          ]
        }
      ],
      "source": [
        "# To split dataset to train and tes\n",
        "from sklearn.model_selection import train_test_split\n",
        "# Check the class distribution after resampling\n",
        "from collections import Counter\n",
        "\n",
        "X_train, X_test, y_train, y_test = train_test_split(\n",
        "    X_train_resampled, y_train_resampled, test_size=0.2, random_state=42\n",
        ")\n",
        "\n",
        "print(\"Training Set Shape:\", X_train.shape)\n",
        "print(\"Testing Set Shape:\", X_test.shape)\n",
        "\n",
        "resampled_distribution = Counter(y_train)\n",
        "print(\"Class distribution after resampling:\")\n",
        "print(resampled_distribution)"
      ]
    },
    {
      "cell_type": "markdown",
      "source": [
        "# MODEL TRAINING & EVALUATION"
      ],
      "metadata": {
        "id": "Qm4HKtYydO7l"
      }
    },
    {
      "cell_type": "code",
      "source": [
        "from sklearn.metrics import f1_score, classification_report, accuracy_score\n",
        "from sklearn.model_selection import GridSearchCV"
      ],
      "metadata": {
        "id": "0Bb_ljeCRv5D"
      },
      "execution_count": null,
      "outputs": []
    },
    {
      "cell_type": "markdown",
      "source": [
        "## Naive Bayes"
      ],
      "metadata": {
        "id": "Zo-c6b1CdYfq"
      }
    },
    {
      "cell_type": "code",
      "execution_count": null,
      "metadata": {
        "id": "Y-awxg7xnazt"
      },
      "outputs": [],
      "source": [
        "from sklearn.naive_bayes import MultinomialNB\n",
        "\n",
        "# Train the Naive Bayes model\n",
        "nb_model = MultinomialNB()\n",
        "nb_model.fit(X_train, y_train)\n",
        "\n",
        "# Make predictions\n",
        "y_pred_nb = nb_model.predict(X_test)"
      ]
    },
    {
      "cell_type": "markdown",
      "source": [
        "## Support Vector Machine"
      ],
      "metadata": {
        "id": "TpiHdiNideyB"
      }
    },
    {
      "cell_type": "code",
      "execution_count": null,
      "metadata": {
        "id": "-MwWockJneld"
      },
      "outputs": [],
      "source": [
        "from sklearn.svm import LinearSVC\n",
        "\n",
        "# Train the SVM model\n",
        "svm_model = LinearSVC(random_state=42)\n",
        "svm_model.fit(X_train, y_train)\n",
        "\n",
        "# Predictions and decision scores\n",
        "y_pred_svm = svm_model.predict(X_test)"
      ]
    },
    {
      "cell_type": "markdown",
      "source": [
        "## Decision Tree"
      ],
      "metadata": {
        "id": "D13xEcGtdmoa"
      }
    },
    {
      "cell_type": "code",
      "execution_count": null,
      "metadata": {
        "id": "ozFm77sOnhKp"
      },
      "outputs": [],
      "source": [
        "from sklearn.tree import DecisionTreeClassifier\n",
        "\n",
        "# Train the Decision Tree model\n",
        "dt_model = DecisionTreeClassifier(random_state=42)\n",
        "dt_model.fit(X_train, y_train)\n",
        "\n",
        "# Predictions and probabilities\n",
        "y_pred_dt = dt_model.predict(X_test)"
      ]
    },
    {
      "cell_type": "code",
      "execution_count": null,
      "metadata": {
        "colab": {
          "base_uri": "https://localhost:8080/"
        },
        "id": "zGMw1iwQoSi2",
        "outputId": "5a11ac4b-34f8-4f18-c46b-cb72b9703d1b"
      },
      "outputs": [
        {
          "output_type": "stream",
          "name": "stdout",
          "text": [
            "\n",
            "Naive Bayes Evaluation:\n",
            "Accuracy: 0.72\n",
            "Precision: 0.77\n",
            "Recall: 0.72\n",
            "F1-Score: 0.72\n",
            "              precision    recall  f1-score   support\n",
            "\n",
            "          -1       0.60      0.93      0.73       801\n",
            "           0       0.92      0.58      0.71       837\n",
            "           1       0.79      0.67      0.73       791\n",
            "\n",
            "    accuracy                           0.72      2429\n",
            "   macro avg       0.77      0.73      0.72      2429\n",
            "weighted avg       0.77      0.72      0.72      2429\n",
            "\n",
            "\n",
            "Support Vector Machine Evaluation:\n",
            "Accuracy: 0.85\n",
            "Precision: 0.85\n",
            "Recall: 0.85\n",
            "F1-Score: 0.84\n",
            "              precision    recall  f1-score   support\n",
            "\n",
            "          -1       0.84      0.91      0.87       801\n",
            "           0       0.85      0.84      0.85       837\n",
            "           1       0.85      0.79      0.82       791\n",
            "\n",
            "    accuracy                           0.85      2429\n",
            "   macro avg       0.85      0.85      0.84      2429\n",
            "weighted avg       0.85      0.85      0.84      2429\n",
            "\n",
            "\n",
            "Decision Tree Evaluation:\n",
            "Accuracy: 0.71\n",
            "Precision: 0.71\n",
            "Recall: 0.71\n",
            "F1-Score: 0.71\n",
            "              precision    recall  f1-score   support\n",
            "\n",
            "          -1       0.71      0.71      0.71       801\n",
            "           0       0.71      0.73      0.72       837\n",
            "           1       0.71      0.69      0.70       791\n",
            "\n",
            "    accuracy                           0.71      2429\n",
            "   macro avg       0.71      0.71      0.71      2429\n",
            "weighted avg       0.71      0.71      0.71      2429\n",
            "\n",
            "\n",
            "Summary of Model Performance:\n",
            "           Model  Accuracy  Precision    Recall  F1-Score\n",
            "0    Naive Bayes  0.724166   0.774199  0.724166  0.722458\n",
            "1            SVM  0.845204   0.845574  0.845204  0.844519\n",
            "2  Decision Tree  0.706875   0.706900  0.706875  0.706775\n"
          ]
        }
      ],
      "source": [
        "from sklearn.metrics import classification_report, accuracy_score, precision_score, recall_score, f1_score\n",
        "\n",
        "# Define a function to calculate all metrics\n",
        "def evaluate_model(model_name, y_test, y_pred):\n",
        "    accuracy = accuracy_score(y_test, y_pred)\n",
        "    precision = precision_score(y_test, y_pred, average='weighted')\n",
        "    recall = recall_score(y_test, y_pred, average='weighted')\n",
        "    f1 = f1_score(y_test, y_pred, average='weighted')\n",
        "\n",
        "    print(f\"\\n{model_name} Evaluation:\")\n",
        "    print(f\"Accuracy: {accuracy:.2f}\")\n",
        "    print(f\"Precision: {precision:.2f}\")\n",
        "    print(f\"Recall: {recall:.2f}\")\n",
        "    print(f\"F1-Score: {f1:.2f}\")\n",
        "    print(classification_report(y_test, y_pred))\n",
        "\n",
        "    return accuracy, precision, recall, f1\n",
        "\n",
        "# Evaluate all models with the added metrics\n",
        "acc_nb, prec_nb, rec_nb, f1_nb = evaluate_model(\"Naive Bayes\", y_test, y_pred_nb)\n",
        "acc_svm, prec_svm, rec_svm, f1_svm = evaluate_model(\"Support Vector Machine\", y_test, y_pred_svm)\n",
        "acc_dt, prec_dt, rec_dt, f1_dt = evaluate_model(\"Decision Tree\", y_test, y_pred_dt)\n",
        "\n",
        "# Store results in a DataFrame for better visualization\n",
        "model_results = pd.DataFrame({\n",
        "    \"Model\": [\"Naive Bayes\", \"SVM\", \"Decision Tree\"],\n",
        "    \"Accuracy\": [acc_nb, acc_svm, acc_dt],\n",
        "    \"Precision\": [prec_nb, prec_svm, prec_dt],\n",
        "    \"Recall\": [rec_nb, rec_svm, rec_dt],\n",
        "    \"F1-Score\": [f1_nb, f1_svm, f1_dt]\n",
        "})\n",
        "\n",
        "# Display summary of results\n",
        "print(\"\\nSummary of Model Performance:\")\n",
        "print(model_results)\n"
      ]
    },
    {
      "cell_type": "markdown",
      "source": [
        "## Cross Validation and Hyperparameter Tuning on Best Model (SVM)\n",
        "\n",
        "---\n",
        "\n"
      ],
      "metadata": {
        "id": "SxdL4c0mIKk2"
      }
    },
    {
      "cell_type": "code",
      "source": [
        "# Define the parameter grid for LinearSVC\n",
        "param_grid = {\n",
        "    'C': [0.01, 0.1, 1, 10],  # Regularization strength\n",
        "    'max_iter': [1000, 5000]  # Maximum number of iterations\n",
        "}\n",
        "\n",
        "# Initialize the SVM model\n",
        "svm_model = LinearSVC(random_state=42)\n",
        "\n",
        "# Initialize GridSearchCV with F1-score as part of scoring metrics\n",
        "grid_search_svm = GridSearchCV(\n",
        "    estimator=svm_model,\n",
        "    param_grid=param_grid,\n",
        "    cv=5,  # 5-fold cross-validation\n",
        "    scoring='f1_weighted',  # Scoring changed to F1-Score for better optimization\n",
        "    verbose=1\n",
        ")\n",
        "\n",
        "# Fit GridSearchCV\n",
        "grid_search_svm.fit(X_train, y_train)\n",
        "\n",
        "# Display the best parameters and best F1-Score\n",
        "print(\"Best Parameters for SVM:\", grid_search_svm.best_params_)\n",
        "print(\"Best Cross-Validated F1-Score: {:.2f}%\".format(grid_search_svm.best_score_ * 100))\n",
        "\n",
        "# Evaluate the best model on the test set\n",
        "best_svm_model = grid_search_svm.best_estimator_\n",
        "y_pred_best_svm = best_svm_model.predict(X_test)\n",
        "\n",
        "# Final Model Evaluation\n",
        "print(\"\\nTest Set Evaluation with Tuned SVM:\")\n",
        "print(classification_report(y_test, y_pred_best_svm))\n",
        "test_accuracy = accuracy_score(y_test, y_pred_best_svm)\n",
        "test_precision = precision_score(y_test, y_pred_best_svm, average='weighted')\n",
        "test_recall = recall_score(y_test, y_pred_best_svm, average='weighted')\n",
        "test_f1_score = f1_score(y_test, y_pred_best_svm, average='weighted')\n",
        "# Print Accuracy and F1-Score\n",
        "print(f\"SVM Accuracy: {test_accuracy:.2f}\")\n",
        "print(f\"Precision: {test_precision:.2f}\")\n",
        "print(f\"Recall: {test_recall:.2f}\")\n",
        "print(f\"SVM F1-Score: {test_f1_score:.2f}\")"
      ],
      "metadata": {
        "colab": {
          "base_uri": "https://localhost:8080/"
        },
        "id": "EVHKHIeFlucS",
        "outputId": "d8909b0f-a796-419e-e04b-020e89db7612"
      },
      "execution_count": null,
      "outputs": [
        {
          "output_type": "stream",
          "name": "stdout",
          "text": [
            "Fitting 5 folds for each of 8 candidates, totalling 40 fits\n",
            "Best Parameters for SVM: {'C': 10, 'max_iter': 1000}\n",
            "Best Cross-Validated F1-Score: 83.92%\n",
            "\n",
            "Test Set Evaluation with Tuned SVM:\n",
            "              precision    recall  f1-score   support\n",
            "\n",
            "          -1       0.86      0.91      0.89       801\n",
            "           0       0.85      0.86      0.86       837\n",
            "           1       0.86      0.80      0.83       791\n",
            "\n",
            "    accuracy                           0.86      2429\n",
            "   macro avg       0.86      0.86      0.86      2429\n",
            "weighted avg       0.86      0.86      0.86      2429\n",
            "\n",
            "SVM Accuracy: 0.86\n",
            "Precision: 0.86\n",
            "Recall: 0.86\n",
            "SVM F1-Score: 0.86\n"
          ]
        }
      ]
    },
    {
      "cell_type": "markdown",
      "source": [
        "## Testing the sentiment prediction using Best Model and TFIDF Vectorizer"
      ],
      "metadata": {
        "id": "0o-g9OtQQY4v"
      }
    },
    {
      "cell_type": "code",
      "source": [
        "!pip install contractions\n",
        "import re # Regular, to peform text cleaning (remove urls, special characters and extra spaces)\n",
        "import nltk # NLTK is used for NLP process mainly in text preprocessing (Tokenization, stopword removal, lemmatization, POS taagging)\n",
        "\n",
        "from nltk.corpus import stopwords\n",
        "from nltk.tokenize import word_tokenize\n",
        "from nltk.stem import WordNetLemmatizer\n",
        "from nltk.corpus import wordnet\n",
        "from nltk import pos_tag\n",
        "from contractions import fix #To expand contracted words like \"can't\" to \"cannot\".\n",
        "\n",
        "# Download necessary NLTK data\n",
        "nltk.download('punkt_tab') # for tokenizing sentences or words\n",
        "nltk.download('punkt')\n",
        "nltk.download('wordnet') # For Wordnet, used in lemmatization to access synonyms, definations, and for lemmatization\n",
        "nltk.download('omw-1.4')  # WordNet multilingual extensions, to support multilingual\n",
        "nltk.download('averaged_perceptron_tagger_eng') # For part-of-speech tagging\n",
        "nltk.download('stopwords') # For stopword removal during text preprocessing\n",
        "\n",
        "# List of custom stopwords to retain from removing, including \"no\" and \"not\"\n",
        "default_stopwords = set(stopwords.words('english'))\n",
        "custom_stopwords = default_stopwords - {'no', 'not', 'nor', 'none', 'never', 'neither', 'without', 'against',\n",
        "                                        'but', 'however', 'though', 'although',\n",
        "                                        'because', 'since', 'due to', 'with'}\n",
        "\n",
        "\n",
        "# Words that should not be lemmatized\n",
        "non_lemmatizable_words = {'iphone16', 'iphone16plus', 'iphone16pro', 'iphone16promax', \"ios\", 'iphone15', 'iphone15plus', 'iphone15pro', 'iphone15promax',\n",
        "                          'samsunggalaxy23', 'samsunggalaxys23plus', 'samsunggalaxys23ultra', 'samsunggalaxy24', 'samsunggalaxys24plus', 'samsunggalaxys24ultra',\n",
        "                          'ios17', 'ios18', 'dynamic island', 'a17bionic', 'a18chip', 'usb-c', 'lightning port', 'pro motion', 'ceramic shield',\n",
        "                          'snapdragon', 'exynos', '120hz', 'amozed', 'one ui',\n",
        "                          '5g', 'refresh rate', 'fast charging', 'screen size'\n",
        "                          }\n",
        "\n",
        "# Function to map POS tags to WordNet tags\n",
        "def get_wordnet_pos(tag):\n",
        "    if tag.startswith('J'):\n",
        "        return wordnet.ADJ\n",
        "    elif tag.startswith('V'):\n",
        "        return wordnet.VERB\n",
        "    elif tag.startswith('N'):\n",
        "        return wordnet.NOUN\n",
        "    elif tag.startswith('R'):\n",
        "        return wordnet.ADV\n",
        "    else:\n",
        "        return wordnet.NOUN  # Default to noun\n",
        "\n",
        "# Function for text preprocessing\n",
        "def preprocess_text(text):\n",
        "    # Remove mentions\n",
        "    text = re.sub(r'@\\w+', '', text)\n",
        "    # Expand contractions (assuming `fix()` function is defined elsewhere)\n",
        "    text = fix(text)\n",
        "    # Remove URLs\n",
        "    text = re.sub(r'http\\S+|www\\.\\S+', '', text)\n",
        "    # Remove special characters and punctuation, but keep numbers and dots\n",
        "    text = re.sub(r'[^a-zA-Z0-9.\\s]', '', text)\n",
        "    # Convert to lowercase\n",
        "    text = text.lower()\n",
        "    # Remove redundant whitespaces\n",
        "    text = re.sub(r'\\s+', ' ', text).strip()\n",
        "\n",
        "    # Tokenize and POS tag\n",
        "    tokens = word_tokenize(text)\n",
        "    pos_tags = pos_tag(tokens)\n",
        "    lemmatizer = WordNetLemmatizer()\n",
        "\n",
        "    # Enhanced: Edge case handling for empty text\n",
        "    if not tokens:\n",
        "        return ''  # Return an empty string if no valid tokens remain\n",
        "\n",
        "    # Processing tokens with enhanced handling\n",
        "    processed_tokens = [\n",
        "        lemmatizer.lemmatize(word, get_wordnet_pos(tag))\n",
        "        if word.isalpha() and word not in custom_stopwords and word not in non_lemmatizable_words\n",
        "        else word\n",
        "        for word, tag in pos_tags\n",
        "    ]\n",
        "\n",
        "    return ' '.join(processed_tokens)\n"
      ],
      "metadata": {
        "colab": {
          "base_uri": "https://localhost:8080/"
        },
        "id": "iwFZwoWgEfsg",
        "outputId": "d8cc82da-cac9-443e-dac4-777f9cd3be3f"
      },
      "execution_count": null,
      "outputs": [
        {
          "output_type": "stream",
          "name": "stdout",
          "text": [
            "Collecting contractions\n",
            "  Downloading contractions-0.1.73-py2.py3-none-any.whl.metadata (1.2 kB)\n",
            "Collecting textsearch>=0.0.21 (from contractions)\n",
            "  Downloading textsearch-0.0.24-py2.py3-none-any.whl.metadata (1.2 kB)\n",
            "Collecting anyascii (from textsearch>=0.0.21->contractions)\n",
            "  Downloading anyascii-0.3.2-py3-none-any.whl.metadata (1.5 kB)\n",
            "Collecting pyahocorasick (from textsearch>=0.0.21->contractions)\n",
            "  Downloading pyahocorasick-2.1.0-cp310-cp310-manylinux_2_5_x86_64.manylinux1_x86_64.manylinux_2_12_x86_64.manylinux2010_x86_64.whl.metadata (13 kB)\n",
            "Downloading contractions-0.1.73-py2.py3-none-any.whl (8.7 kB)\n",
            "Downloading textsearch-0.0.24-py2.py3-none-any.whl (7.6 kB)\n",
            "Downloading anyascii-0.3.2-py3-none-any.whl (289 kB)\n",
            "\u001b[2K   \u001b[90m━━━━━━━━━━━━━━━━━━━━━━━━━━━━━━━━━━━━━━━━\u001b[0m \u001b[32m289.9/289.9 kB\u001b[0m \u001b[31m6.6 MB/s\u001b[0m eta \u001b[36m0:00:00\u001b[0m\n",
            "\u001b[?25hDownloading pyahocorasick-2.1.0-cp310-cp310-manylinux_2_5_x86_64.manylinux1_x86_64.manylinux_2_12_x86_64.manylinux2010_x86_64.whl (110 kB)\n",
            "\u001b[2K   \u001b[90m━━━━━━━━━━━━━━━━━━━━━━━━━━━━━━━━━━━━━━━━\u001b[0m \u001b[32m110.7/110.7 kB\u001b[0m \u001b[31m5.5 MB/s\u001b[0m eta \u001b[36m0:00:00\u001b[0m\n",
            "\u001b[?25hInstalling collected packages: pyahocorasick, anyascii, textsearch, contractions\n",
            "Successfully installed anyascii-0.3.2 contractions-0.1.73 pyahocorasick-2.1.0 textsearch-0.0.24\n"
          ]
        },
        {
          "output_type": "stream",
          "name": "stderr",
          "text": [
            "[nltk_data] Downloading package punkt_tab to /root/nltk_data...\n",
            "[nltk_data]   Unzipping tokenizers/punkt_tab.zip.\n",
            "[nltk_data] Downloading package punkt to /root/nltk_data...\n",
            "[nltk_data]   Unzipping tokenizers/punkt.zip.\n",
            "[nltk_data] Downloading package wordnet to /root/nltk_data...\n",
            "[nltk_data] Downloading package omw-1.4 to /root/nltk_data...\n",
            "[nltk_data] Downloading package averaged_perceptron_tagger_eng to\n",
            "[nltk_data]     /root/nltk_data...\n",
            "[nltk_data]   Unzipping taggers/averaged_perceptron_tagger_eng.zip.\n",
            "[nltk_data] Downloading package stopwords to /root/nltk_data...\n",
            "[nltk_data]   Unzipping corpora/stopwords.zip.\n"
          ]
        }
      ]
    },
    {
      "cell_type": "code",
      "source": [
        "# Function to predict sentiment for new tweets with preprocessing\n",
        "def predict_tweet_sentiment(tweet_text):\n",
        "    cleaned_text = preprocess_text(tweet_text)\n",
        "    tweet_vectorized = tfidf_vectorizer.transform([cleaned_text])\n",
        "    prediction = best_svm_model.predict(tweet_vectorized)\n",
        "    sentiment_mapping_reverse = {1: 'Positive', 0: 'Neutral', -1: 'Negative'}\n",
        "    return sentiment_mapping_reverse[prediction[0]]\n",
        "\n",
        "# Example predictions with preprocessing\n",
        "new_tweet_1 = \"iphone has no security and very ugly design\"\n",
        "new_tweet_2 = \"iphone15 is affordable\"\n",
        "new_tweet_3 = \"iphone camera is not as good as samsung\"\n",
        "\n",
        "predicted_sentiment_1 = predict_tweet_sentiment(new_tweet_1)\n",
        "predicted_sentiment_2 = predict_tweet_sentiment(new_tweet_2)\n",
        "predicted_sentiment_3 = predict_tweet_sentiment(new_tweet_3)\n",
        "\n",
        "print(\"\\nNew Tweet Sentiment Predictions:\")\n",
        "print(f\"Tweet: {preprocess_text(new_tweet_1)}\")\n",
        "print(f\"Predicted Sentiment: {predicted_sentiment_1}\")\n",
        "print(f\"\\nTweet: {preprocess_text(new_tweet_2)}\")\n",
        "print(f\"Predicted Sentiment: {predicted_sentiment_2}\")\n",
        "print(f\"\\nTweet: {preprocess_text(new_tweet_3)}\")\n",
        "print(f\"Predicted Sentiment: {predicted_sentiment_3}\")"
      ],
      "metadata": {
        "colab": {
          "base_uri": "https://localhost:8080/"
        },
        "id": "TCrcOiSQGra0",
        "outputId": "c3385a1f-c13e-4d5f-c26f-820238e33891"
      },
      "execution_count": null,
      "outputs": [
        {
          "output_type": "stream",
          "name": "stdout",
          "text": [
            "\n",
            "New Tweet Sentiment Predictions:\n",
            "Tweet: iphone has no security and very ugly design\n",
            "Predicted Sentiment: Negative\n",
            "\n",
            "Tweet: iphone15 is affordable\n",
            "Predicted Sentiment: Neutral\n",
            "\n",
            "Tweet: iphone camera is not as good as samsung\n",
            "Predicted Sentiment: Positive\n"
          ]
        }
      ]
    },
    {
      "cell_type": "markdown",
      "source": [
        "## Model Saving and Loading"
      ],
      "metadata": {
        "id": "Z05sjCZuQ8a9"
      }
    },
    {
      "cell_type": "code",
      "source": [
        "import joblib\n",
        "# Save the model and vectorizer\n",
        "joblib.dump(best_svm_model, 'svm_model.pkl')\n",
        "joblib.dump(tfidf_vectorizer, 'vectorizer.pkl')\n",
        "print(\"Model and vectorizer saved successfully.\")"
      ],
      "metadata": {
        "id": "DVeIt7iuRzXW",
        "colab": {
          "base_uri": "https://localhost:8080/"
        },
        "outputId": "38b4688e-5b4b-4531-cbb1-a1b816df552f"
      },
      "execution_count": null,
      "outputs": [
        {
          "output_type": "stream",
          "name": "stdout",
          "text": [
            "Model and vectorizer saved successfully.\n"
          ]
        }
      ]
    }
  ],
  "metadata": {
    "colab": {
      "provenance": []
    },
    "kernelspec": {
      "display_name": "Python 3",
      "name": "python3"
    },
    "language_info": {
      "name": "python"
    }
  },
  "nbformat": 4,
  "nbformat_minor": 0
}